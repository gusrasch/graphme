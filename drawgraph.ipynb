{
 "cells": [
  {
   "cell_type": "code",
   "execution_count": 1,
   "id": "a2cdd48b-87ab-4284-abfc-f6aa54f5a94c",
   "metadata": {},
   "outputs": [],
   "source": [
    "import json\n",
    "import networkx as nx\n",
    "import graphviz as gz\n"
   ]
  },
  {
   "cell_type": "code",
   "execution_count": 2,
   "id": "a41958d8-eb07-40e4-9783-1596b8aca0f2",
   "metadata": {},
   "outputs": [],
   "source": [
    "with open(\"/Users/gusrasch/dev/graphme/ragtest/output/20240805-222554/artifacts/graph.json\") as f:\n",
    "    graph_json = json.load(f)\n",
    "\n",
    "graph_ml = graph_json[\"entity_graph\"]\n",
    "graph_nx = nx.parse_graphml(graph_ml)"
   ]
  },
  {
   "cell_type": "code",
   "execution_count": 4,
   "id": "3c5bff8d-0fa6-490a-bddd-a2eb484606ae",
   "metadata": {},
   "outputs": [
    {
     "ename": "TypeError",
     "evalue": "draw_networkx_labels() missing 1 required positional argument: 'pos'",
     "output_type": "error",
     "traceback": [
      "\u001b[0;31m---------------------------------------------------------------------------\u001b[0m",
      "\u001b[0;31mTypeError\u001b[0m                                 Traceback (most recent call last)",
      "Cell \u001b[0;32mIn[4], line 1\u001b[0m\n\u001b[0;32m----> 1\u001b[0m \u001b[43mnx\u001b[49m\u001b[38;5;241;43m.\u001b[39;49m\u001b[43mdraw_networkx_labels\u001b[49m\u001b[43m(\u001b[49m\u001b[43mgraph_nx\u001b[49m\u001b[43m)\u001b[49m\n",
      "\u001b[0;31mTypeError\u001b[0m: draw_networkx_labels() missing 1 required positional argument: 'pos'"
     ]
    }
   ],
   "source": [
    "nx.draw(graph_nx)"
   ]
  },
  {
   "cell_type": "code",
   "execution_count": 13,
   "id": "2582d2ca-4041-4003-847a-0052ad09331b",
   "metadata": {},
   "outputs": [],
   "source": [
    "graph = gz.Digraph(graph_nx)"
   ]
  },
  {
   "cell_type": "code",
   "execution_count": null,
   "id": "c5d5cbc1-e28d-4393-9426-59325d613860",
   "metadata": {},
   "outputs": [],
   "source": []
  }
 ],
 "metadata": {
  "kernelspec": {
   "display_name": "Python 3 (ipykernel)",
   "language": "python",
   "name": "python3"
  },
  "language_info": {
   "codemirror_mode": {
    "name": "ipython",
    "version": 3
   },
   "file_extension": ".py",
   "mimetype": "text/x-python",
   "name": "python",
   "nbconvert_exporter": "python",
   "pygments_lexer": "ipython3",
   "version": "3.11.9"
  }
 },
 "nbformat": 4,
 "nbformat_minor": 5
}
